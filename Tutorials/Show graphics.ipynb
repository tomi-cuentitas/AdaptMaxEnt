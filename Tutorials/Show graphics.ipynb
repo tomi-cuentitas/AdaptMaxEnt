{
 "cells": [
  {
   "cell_type": "code",
   "execution_count": 1,
   "id": "d183abd6",
   "metadata": {},
   "outputs": [],
   "source": [
    "from matplotlib import pyplot as plt\n",
    "import pickle\n",
    "import numpy as np\n",
    "from scipy.optimize import root, fsolve\n",
    "\n",
    "import ipywidgets as widgets\n",
    "\n",
    "from scipy.optimize import root, fsolve\n",
    "\n",
    "def latex_scientific_notation(value):\n",
    "    exponent = int(np.log10(value))\n",
    "    if exponent:\n",
    "        value = value / 10**exponent\n",
    "        return f\"{value}\" + r\" \\times 10^{\" + str(exponent) +\"}\"\n",
    "    return f\"{value}\"\n",
    "\n",
    "def simulation_label(simulation):\n",
    "    sim_parms = simulation[\"parms\"]\n",
    "    result = f\"{sim_parms['m0']}, {sim_parms['chosen_depth']}, {latex_scientific_notation(sim_parms['eps'])}\"\n",
    "    result = r\"$(m_0, \\ell, tol) \\rightarrow \"+ f\"({result})$\"\n",
    "    return result\n",
    "\n",
    "\n",
    "def obs_labels(obs_name):\n",
    "    return obs_name\n",
    "\n",
    "def lieb_robinson_speed(parameters):\n",
    "    \n",
    "    f_factor=np.real(max(np.roots(np.poly1d([1, 0, \n",
    "                                             -(parameters['Jx']*parameters['Jy']+\n",
    "                                               parameters['Jx']*parameters['Jy']+\n",
    "                                               parameters['Jy']*parameters['Jz']), \n",
    "                                             -2*parameters['Jx']*parameters['Jy']*parameters['Jz']])\n",
    "                                 )\n",
    "                        )\n",
    "                    )\n",
    "    chi_y=fsolve(lambda x,y: x*np.arcsinh(x)-np.sqrt(x**2+1)-y, 1e-1, args=(0))[0]\n",
    "    return 4*f_factor*chi_y"
   ]
  },
  {
   "cell_type": "code",
   "execution_count": 2,
   "id": "b14c83a1",
   "metadata": {},
   "outputs": [],
   "source": [
    "with open(\"simulaciones.pkl\", \"br\") as in_file:\n",
    "    simulations = pickle.load(in_file)\n",
    "\n",
    "params = simulations[\"_params\"]\n",
    "vLR = lieb_robinson_speed(params)\n",
    "\n"
   ]
  },
  {
   "cell_type": "code",
   "execution_count": 3,
   "id": "6373e1a9",
   "metadata": {},
   "outputs": [
    {
     "data": {
      "application/vnd.jupyter.widget-view+json": {
       "model_id": "e629b21ee3ba49718cc736153d526467",
       "version_major": 2,
       "version_minor": 0
      },
      "text/plain": [
       "interactive(children=(SelectMultiple(description='sims', options=('(1,3,0.1,weights)', '(1,5,0.1,weights)', '(…"
      ]
     },
     "metadata": {},
     "output_type": "display_data"
    }
   ],
   "source": [
    "import ipywidgets\n",
    "\n",
    "def mostrar_observables(sims, obs_lst):\n",
    "    n = 10\n",
    "    if len(sims)==0 or len(obs_lst)==0:\n",
    "        return\n",
    "    simulation = simulations[\"exact\"]\n",
    "    t_vlr = np.array(simulation[\"ev_obs_ex\"][\"time\"]) * vLR\n",
    "    for obs_name in obs_lst:\n",
    "        if obs_name==\"time\":\n",
    "            continue\n",
    "        obs_label = obs_labels(obs_name)\n",
    "        simulation = simulations[\"exact\"]\n",
    "        data = np.array(simulation[\"ev_obs_ex\"][obs_name])\n",
    "        label = obs_name + \" - exact\"\n",
    "        plt.plot(t_vlr, data, label=label, linewidth=2)\n",
    "            \n",
    "        for sim in sims:\n",
    "            simulation = simulations[sim]\n",
    "            sim_label = simulation_label(simulation)\n",
    "            label =  obs_name + \" - \" + sim_label\n",
    "            data = np.array(simulation[\"ev_obs_maxent\"][obs_name])\n",
    "            plt.scatter(t_vlr[::n], data[::n], label=label, linewidth=2)\n",
    "    plt.legend()\n",
    "            \n",
    "\n",
    "\n",
    "pick_sim = widgets.SelectMultiple(options=sorted([key for key in simulations.keys() if key!=\"exact\" and key[0]!=\"_\"]))\n",
    "pick_obs = widgets.SelectMultiple(options=sorted([key for key in simulations[\"exact\"][\"ev_obs_ex\"].keys() if key!=\"time\"]))\n",
    "                 \n",
    "interact=widgets.interact(mostrar_observables, sims=pick_sim   , obs_lst=pick_obs)\n",
    "# mostrar_observables([1,2],[\"obs_SzA\"])    "
   ]
  },
  {
   "cell_type": "code",
   "execution_count": 4,
   "id": "e90b4927",
   "metadata": {},
   "outputs": [
    {
     "data": {
      "application/vnd.jupyter.widget-view+json": {
       "model_id": "1d1b2ca6119d4d439acd42900653fa49",
       "version_major": 2,
       "version_minor": 0
      },
      "text/plain": [
       "interactive(children=(SelectMultiple(description='sims', options=('(1,3,0.1,weights)', '(1,5,0.1,weights)', '(…"
      ]
     },
     "metadata": {},
     "output_type": "display_data"
    }
   ],
   "source": [
    "def mostrar_velocidades(sims):\n",
    "    if len(sims)==0:\n",
    "        return\n",
    "\n",
    "    fig, ax = plt.subplots(figsize=(6, 4.5))\n",
    "    m = 11\n",
    "    n = 10\n",
    "    simulation = simulations[\"exact\"]\n",
    "    timespan = simulation[\"times\"]\n",
    "    t_vlr = np.array(simulation[\"ev_obs_ex\"][\"time\"]) * vLR            \n",
    "    for sim in sims:\n",
    "        simulation = simulations[sim]\n",
    "        sim_label = sim #simulation_label(simulation)\n",
    "        t_vLR = simulation[\"times_act_ell\"][:-1][::m]\n",
    "        v_ps = simulation[\"velocity_PS_ell\"][::m]\n",
    "        ax.scatter(t_vLR, v_ps, label=sim_label + r\" $1/\\mu$\")\n",
    "        t_vLR = simulation[\"times_act_ell\"][:-1][::n]\n",
    "        v_mu = simulation[\"velocity_mu_ell\"][::n]\n",
    "        ax.plot(t_vLR, v_mu, label=sim_label + r\" $v_{update}$\")\n",
    "    ax.legend()\n",
    "    # Bordures uniquement à gauche et en bas (style minimaliste)\n",
    "    ax.spines['top'].set_visible(False)\n",
    "    ax.spines['right'].set_visible(False)\n",
    "\n",
    "    # Personnalisation des ticks\n",
    "    ax.tick_params(direction='out', length=6, width=2, which='major', grid_alpha=0.6)\n",
    "    ax.grid(True, which='major', linestyle='--', linewidth=0.75, alpha=0.7)\n",
    "\n",
    "    ax.legend(frameon=False, loc='center right')\n",
    "    ax.set_yscale(\"log\")\n",
    "\n",
    "    # Create a secondary x-axis (twinned) and set its limits\n",
    "    ax1 = ax.twiny()\n",
    "    ax1.set_xlim(timespan[0]*vLR, timespan[-1]*vLR)\n",
    "\n",
    "    # Set axis labels\n",
    "    ax.set_xlabel(r'$t v_{\\rm LR} \\, [L]$')\n",
    "    ax1.set_xlabel(r'$t \\, [{\\rm arb. units}]$')\n",
    "\n",
    "    # Format the title using the `params` dictionary values\n",
    "    # Ensure proper LaTeX formatting and consistent escape sequences\n",
    "    plt.title(r'$L={}$, $J_x={}$, $v_{{\\rm LR}}={}$'.format(\n",
    "        simulations[\"_params\"]['size'], \n",
    "        round(simulations[\"_params\"]['Jx'], 3), \n",
    "        round(vLR, 3)\n",
    "    ))\n",
    "\n",
    "    # Adjustment final et affichage\n",
    "    plt.tight_layout()\n",
    "    plt.show()\n",
    "            \n",
    "\n",
    "\n",
    "pick_sim = widgets.SelectMultiple(options=sorted([key for key in simulations.keys() if key!=\"exact\" and key[0]!=\"_\"]))\n",
    "\n",
    "                 \n",
    "interact=widgets.interact(mostrar_velocidades, sims=pick_sim)\n",
    "# mostrar_observables([1,2],[\"obs_SzA\"])    "
   ]
  },
  {
   "cell_type": "code",
   "execution_count": 5,
   "id": "9fda51d6",
   "metadata": {},
   "outputs": [
    {
     "data": {
      "application/vnd.jupyter.widget-view+json": {
       "model_id": "83e50e21411343baa64ed08166feb8d2",
       "version_major": 2,
       "version_minor": 0
      },
      "text/plain": [
       "interactive(children=(SelectMultiple(description='sims', options=('(1,3,0.1,weights)', '(1,5,0.1,weights)', '(…"
      ]
     },
     "metadata": {},
     "output_type": "display_data"
    }
   ],
   "source": [
    "def mostrar_errores(sims):\n",
    "    if len(sims)==0:\n",
    "        return\n",
    "\n",
    "    fig, ax = plt.subplots(figsize=(8, 4))\n",
    "    m = 11\n",
    "    n = 10\n",
    "    simulation = simulations[\"exact\"]\n",
    "    timespan = simulation[\"times\"]\n",
    "    t_vlr = np.array(simulation[\"ev_obs_ex\"][\"time\"]) * vLR            \n",
    "    for sim in sims:\n",
    "        simulation = simulations[sim]\n",
    "        error_func = sim.split(\",\")[-1][:-1]\n",
    "        sim_label = error_func + \" - \" + simulation_label(simulation)\n",
    "        t_vLR = simulation[\"times_act_ell\"]\n",
    "        werror = [sum(np.real(errors)**2)**.5   for errors in simulation[\"instantaneous_w_errors\"]]\n",
    "        ax.plot(t_vLR, werror, label=r\"$error bound$ - \" + sim_label )\n",
    "    ax.legend()\n",
    "    # Bordures uniquement à gauche et en bas (style minimaliste)\n",
    "    ax.spines['top'].set_visible(False)\n",
    "    ax.spines['right'].set_visible(False)\n",
    "\n",
    "    # Personnalisation des ticks\n",
    "    ax.tick_params(direction='out', length=6, width=2, which='major', grid_alpha=0.6)\n",
    "    ax.grid(True, which='major', linestyle='--', linewidth=0.75, alpha=0.7)\n",
    "\n",
    "    # ax.legend(frameon=False, loc='center right')\n",
    "\n",
    "    # Create a secondary x-axis (twinned) and set its limits\n",
    "    ax1 = ax.twiny()\n",
    "    ax1.set_xlim(timespan[0]*vLR, timespan[-1]*vLR)\n",
    "\n",
    "    # Set axis labels\n",
    "    ax.set_xlabel(r'$t v_{\\rm LR} \\, [L]$')\n",
    "    # ax1.set_xlabel(r'$t \\, [{\\rm arb. units}]$')\n",
    "    ax.set_ylabel(\"W\")\n",
    "\n",
    "    # Format the title using the `params` dictionary values\n",
    "    # Ensure proper LaTeX formatting and consistent escape sequences\n",
    "    plt.title(r'$L={}$, $J_x={}$, $v_{{\\rm LR}}={}$'.format(\n",
    "        simulations[\"_params\"]['size'], \n",
    "        round(simulations[\"_params\"]['Jx'], 3), \n",
    "        round(vLR, 3)\n",
    "    ))\n",
    "\n",
    "    # Adjustment final et affichage\n",
    "    plt.tight_layout()\n",
    "    plt.show()\n",
    "            \n",
    "\n",
    "\n",
    "pick_sim = widgets.SelectMultiple(options=sorted([key for key in simulations.keys() if key!=\"exact\" and key[0]!=\"_\"]))\n",
    "\n",
    "                 \n",
    "interact=widgets.interact(mostrar_errores, sims=pick_sim)\n",
    "# mostrar_observables([1,2],[\"obs_SzA\"])    "
   ]
  },
  {
   "cell_type": "code",
   "execution_count": 6,
   "id": "8d0ab290",
   "metadata": {},
   "outputs": [
    {
     "data": {
      "application/vnd.jupyter.widget-view+json": {
       "model_id": "b4eb7483305649e593f7f563e8efd1b9",
       "version_major": 2,
       "version_minor": 0
      },
      "text/plain": [
       "interactive(children=(SelectMultiple(description='sims', options=('(1,3,0.1,weights)', '(1,5,0.1,weights)', '(…"
      ]
     },
     "metadata": {},
     "output_type": "display_data"
    }
   ],
   "source": [
    "def mostrar_peso_errores(sims):\n",
    "    if len(sims)==0:\n",
    "        return\n",
    "\n",
    "    fig, ax = plt.subplots(figsize=(8, 4))\n",
    "    m = 11\n",
    "    n = 10\n",
    "    simulation = simulations[\"exact\"]\n",
    "    timespan = simulation[\"times\"]\n",
    "    t_vlr = np.array(simulation[\"ev_obs_ex\"][\"time\"]) * vLR            \n",
    "    for sim in sims:\n",
    "        simulation = simulations[sim]\n",
    "        error_func = sim.split(\",\")[-1][:-1]\n",
    "        sim_label = error_func + \" - \" + simulation_label(simulation)\n",
    "        t_vLR = simulation[\"times_act_ell\"]\n",
    "        w_a = np.array(simulation[\"instantaneous_w_errors\"]).transpose()\n",
    "        for i, w_a in enumerate(w_a):\n",
    "            ax.plot(t_vLR, w_a, label=r\"$\\mathcal{W}_{\"+str(i)+\"}$\" + \" - \" + sim_label )\n",
    "    ax.legend()\n",
    "    # Bordures uniquement à gauche et en bas (style minimaliste)\n",
    "    ax.spines['top'].set_visible(False)\n",
    "    ax.spines['right'].set_visible(False)\n",
    "\n",
    "    # Personnalisation des ticks\n",
    "    ax.tick_params(direction='out', length=6, width=2, which='major', grid_alpha=0.6)\n",
    "    ax.grid(True, which='major', linestyle='--', linewidth=0.75, alpha=0.7)\n",
    "\n",
    "    # ax.legend(frameon=False, loc='center right')\n",
    "\n",
    "    # Create a secondary x-axis (twinned) and set its limits\n",
    "    ax1 = ax.twiny()\n",
    "    ax1.set_xlim(timespan[0]*vLR, timespan[-1]*vLR)\n",
    "    # ax.set_yscale(\"log\")\n",
    "\n",
    "    # Set axis labels\n",
    "    ax.set_xlabel(r'$t v_{\\rm LR} \\, [L]$')\n",
    "    # ax1.set_xlabel(r'$t \\, [{\\rm arb. units}]$')\n",
    "    ax.set_ylabel(\"W\")\n",
    "\n",
    "    # Format the title using the `params` dictionary values\n",
    "    # Ensure proper LaTeX formatting and consistent escape sequences\n",
    "    plt.title(r'$L={}$, $J_x={}$, $v_{{\\rm LR}}={}$'.format(\n",
    "        simulations[\"_params\"]['size'], \n",
    "        round(simulations[\"_params\"]['Jx'], 3), \n",
    "        round(vLR, 3)\n",
    "    ))\n",
    "\n",
    "    # Adjustment final et affichage\n",
    "    plt.tight_layout()\n",
    "    plt.show()\n",
    "            \n",
    "\n",
    "\n",
    "pick_sim = widgets.SelectMultiple(options=sorted([key for key in simulations.keys() if key!=\"exact\" and key[0]!=\"_\"]))\n",
    "\n",
    "                 \n",
    "interact=widgets.interact(mostrar_peso_errores, sims=pick_sim)\n",
    "# mostrar_observables([1,2],[\"obs_SzA\"])    "
   ]
  },
  {
   "cell_type": "code",
   "execution_count": 17,
   "id": "53781141",
   "metadata": {},
   "outputs": [
    {
     "data": {
      "application/vnd.jupyter.widget-view+json": {
       "model_id": "ce616a3bedf4427aa50d39bc00e1e582",
       "version_major": 2,
       "version_minor": 0
      },
      "text/plain": [
       "interactive(children=(SelectMultiple(description='sims', options=('(1,3,0.1,weights)', '(1,5,0.1,weights)', '(…"
      ]
     },
     "metadata": {},
     "output_type": "display_data"
    }
   ],
   "source": [
    "def mostrar_peso_errores_2(sims):\n",
    "    if len(sims)==0:\n",
    "        return\n",
    "\n",
    "    fig, ax = plt.subplots(figsize=(8, 4))\n",
    "    m = 11\n",
    "    n = 10\n",
    "    simulation = simulations[\"exact\"]\n",
    "    timespan = simulation[\"times\"]\n",
    "    t_vlr = np.array(simulation[\"ev_obs_ex\"][\"time\"]) * vLR    \n",
    "    for sim in sims:\n",
    "        simulation = simulations[sim]\n",
    "        print(len(simulation[\"instantaneous_w_errors\"]))\n",
    "        error_func = sim.split(\",\")[-1][:-1]\n",
    "        sim_label = error_func + \" - \" + simulation_label(simulation)\n",
    "        t_vLR = simulation[\"times_act_ell\"]\n",
    "        \n",
    "        w_a = np.array(simulation[\"instantaneous_w_errors\"])[::50]\n",
    "        for i, w_a in enumerate(w_a):\n",
    "            ax.plot(w_a, label=r\"$\\mathcal{W}(\"+str(t_vLR[50*i])+\")$\" + \" - \" + sim_label )\n",
    "    ax.legend()\n",
    "    # Bordures uniquement à gauche et en bas (style minimaliste)\n",
    "    ax.spines['top'].set_visible(False)\n",
    "    ax.spines['right'].set_visible(False)\n",
    "\n",
    "    # Personnalisation des ticks\n",
    "    ax.tick_params(direction='out', length=6, width=2, which='major', grid_alpha=0.6)\n",
    "    ax.grid(True, which='major', linestyle='--', linewidth=0.75, alpha=0.7)\n",
    "\n",
    "    # ax.legend(frameon=False, loc='center right')\n",
    "\n",
    "    # Create a secondary x-axis (twinned) and set its limits\n",
    "    ax1 = ax.twiny()\n",
    "    ax1.set_xlim(timespan[0]*vLR, timespan[-1]*vLR)\n",
    "    # ax.set_yscale(\"log\")\n",
    "\n",
    "    # Set axis labels\n",
    "    ax.set_xlabel(r'$t v_{\\rm LR} \\, [L]$')\n",
    "    # ax1.set_xlabel(r'$t \\, [{\\rm arb. units}]$')\n",
    "    ax.set_ylabel(\"W\")\n",
    "\n",
    "    # Format the title using the `params` dictionary values\n",
    "    # Ensure proper LaTeX formatting and consistent escape sequences\n",
    "    plt.title(r'$L={}$, $J_x={}$, $v_{{\\rm LR}}={}$'.format(\n",
    "        simulations[\"_params\"]['size'], \n",
    "        round(simulations[\"_params\"]['Jx'], 3), \n",
    "        round(vLR, 3)\n",
    "    ))\n",
    "\n",
    "    # Adjustment final et affichage\n",
    "    plt.tight_layout()\n",
    "    plt.show()\n",
    "            \n",
    "\n",
    "\n",
    "pick_sim = widgets.SelectMultiple(options=sorted([key for key in simulations.keys() if key!=\"exact\" and key[0]!=\"_\"]))\n",
    "\n",
    "                 \n",
    "interact=widgets.interact(mostrar_peso_errores_2, sims=pick_sim)\n",
    "# mostrar_observables([1,2],[\"obs_SzA\"])    "
   ]
  },
  {
   "cell_type": "code",
   "execution_count": 7,
   "id": "813cf309",
   "metadata": {},
   "outputs": [
    {
     "ename": "NameError",
     "evalue": "name 'json' is not defined",
     "output_type": "error",
     "traceback": [
      "\u001b[0;31m---------------------------------------------------------------------------\u001b[0m",
      "\u001b[0;31mNameError\u001b[0m                                 Traceback (most recent call last)",
      "Cell \u001b[0;32mIn[7], line 1\u001b[0m\n\u001b[0;32m----> 1\u001b[0m help(\u001b[43mjson\u001b[49m\u001b[38;5;241m.\u001b[39mdump)\n",
      "\u001b[0;31mNameError\u001b[0m: name 'json' is not defined"
     ]
    }
   ],
   "source": [
    "help(json.dump)"
   ]
  },
  {
   "cell_type": "code",
   "execution_count": null,
   "id": "fa2ff030",
   "metadata": {},
   "outputs": [],
   "source": [
    "simulations.keys()"
   ]
  },
  {
   "cell_type": "code",
   "execution_count": null,
   "id": "9d54aafb",
   "metadata": {},
   "outputs": [],
   "source": [
    "import json\n",
    "from datetime import datetime\n",
    "\n",
    " \n",
    "class MyJSONEncoder(json.JSONEncoder):         \n",
    "    def default(self, o):\n",
    "        if hasattr(o, \"tolist\"):\n",
    "            return o.tolist() # works with any object that has .tolist() method\n",
    "        if isinstance(o, datetime):\n",
    "            print(\"datetime\")\n",
    "            return str(o)\n",
    "        if isinstance(o, complex):\n",
    "            return np.real(o)\n",
    "        # Let the base class default method raise the TypeError\n",
    "        print(type(o))\n",
    "        return json.JSONEncoder.default(self, o)\n",
    "    \n",
    "\n",
    "with open(\"simulations.json\", \"w\") as file_out:\n",
    "    json.dump(simulations['(3,3,0.01,weights)'], file_out,\n",
    "                           separators=(',', ':'), sort_keys=True, indent=4, cls=MyJSONEncoder)\n"
   ]
  },
  {
   "cell_type": "code",
   "execution_count": null,
   "id": "a9b3b646",
   "metadata": {},
   "outputs": [],
   "source": [
    "with open(\"simulations.json\", \"r\") as file_in:\n",
    "    test=json.load(file_in)\n"
   ]
  },
  {
   "cell_type": "code",
   "execution_count": null,
   "id": "e6bcd680",
   "metadata": {},
   "outputs": [],
   "source": [
    "test\n"
   ]
  },
  {
   "cell_type": "code",
   "execution_count": 9,
   "id": "a1e73b2b",
   "metadata": {},
   "outputs": [
    {
     "data": {
      "text/plain": [
       "array([1., 1.])"
      ]
     },
     "execution_count": 9,
     "metadata": {},
     "output_type": "execute_result"
    }
   ],
   "source": [
    "np.real(np.array([1+2j,1+3.j]))"
   ]
  },
  {
   "cell_type": "code",
   "execution_count": null,
   "id": "3c1c17f3",
   "metadata": {},
   "outputs": [],
   "source": []
  }
 ],
 "metadata": {
  "kernelspec": {
   "display_name": "Python 3 (ipykernel)",
   "language": "python",
   "name": "python3"
  },
  "language_info": {
   "codemirror_mode": {
    "name": "ipython",
    "version": 3
   },
   "file_extension": ".py",
   "mimetype": "text/x-python",
   "name": "python",
   "nbconvert_exporter": "python",
   "pygments_lexer": "ipython3",
   "version": "3.8.19"
  }
 },
 "nbformat": 4,
 "nbformat_minor": 5
}
