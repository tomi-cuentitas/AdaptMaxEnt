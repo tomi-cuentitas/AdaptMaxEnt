{
 "cells": [
  {
   "cell_type": "code",
   "execution_count": 1,
   "id": "ffb81756",
   "metadata": {},
   "outputs": [],
   "source": [
    "from matplotlib import pyplot as plt\n",
    "import pickle\n",
    "import numpy as np\n",
    "from scipy.optimize import root, fsolve\n",
    "\n",
    "import ipywidgets as widgets\n",
    "\n",
    "from scipy.optimize import root, fsolve\n",
    "\n",
    "def latex_scientific_notation(value):\n",
    "    exponent = int(np.log10(value))\n",
    "    if exponent:\n",
    "        value = value / 10**exponent\n",
    "        return f\"{value}\" + r\" \\times 10^{\" + str(exponent) +\"}\"\n",
    "    return f\"{value}\"\n",
    "\n",
    "def simulation_label(simulation):\n",
    "    sim_parms = simulation[\"parms\"]\n",
    "    result = f\"{sim_parms['m0']}, {sim_parms['chosen_depth']}, {latex_scientific_notation(sim_parms['eps'])}\"\n",
    "    result = r\"$(m_0, \\ell, tol) \\rightarrow \"+ f\"({result})$\"\n",
    "    return result\n",
    "\n",
    "\n",
    "def obs_labels(obs_name):\n",
    "    return obs_name\n",
    "\n",
    "def lieb_robinson_speed(parameters):\n",
    "    \n",
    "    f_factor=np.real(max(np.roots(np.poly1d([1, 0, \n",
    "                                             -(parameters['Jx']*parameters['Jy']+\n",
    "                                               parameters['Jx']*parameters['Jy']+\n",
    "                                               parameters['Jy']*parameters['Jz']), \n",
    "                                             -2*parameters['Jx']*parameters['Jy']*parameters['Jz']])\n",
    "                                 )\n",
    "                        )\n",
    "                    )\n",
    "    chi_y=fsolve(lambda x,y: x*np.arcsinh(x)-np.sqrt(x**2+1)-y, 1e-1, args=(0))[0]\n",
    "    return 4*f_factor*chi_y"
   ]
  },
  {
   "cell_type": "code",
   "execution_count": 2,
   "id": "b64eee59",
   "metadata": {},
   "outputs": [],
   "source": [
    "with open(\"simulaciones.pkl\", \"br\") as in_file:\n",
    "    simulations = pickle.load(in_file)\n",
    "\n",
    "params = simulations[\"_params\"]\n",
    "vLR = lieb_robinson_speed(params)\n",
    "\n"
   ]
  },
  {
   "cell_type": "code",
   "execution_count": 8,
   "id": "6e9f171d",
   "metadata": {},
   "outputs": [
    {
     "data": {
      "application/vnd.jupyter.widget-view+json": {
       "model_id": "f6f4e86e3a1646078613ee39a9bdaf00",
       "version_major": 2,
       "version_minor": 0
      },
      "text/plain": [
       "interactive(children=(SelectMultiple(description='sims', options=('(3,3,0.01,partial_sum)', '(3,3,0.01,weights…"
      ]
     },
     "metadata": {},
     "output_type": "display_data"
    }
   ],
   "source": [
    "import ipywidgets\n",
    "\n",
    "def mostrar_observables(sims, obs_lst):\n",
    "    n = 10\n",
    "    if len(sims)==0 or len(obs_lst)==0:\n",
    "        return\n",
    "    simulation = simulations[\"exact\"]\n",
    "    t_vlr = np.array(simulation[\"ev_obs_ex\"][\"time\"]) * vLR\n",
    "    for obs_name in obs_lst:\n",
    "        if obs_name==\"time\":\n",
    "            continue\n",
    "        obs_label = obs_labels(obs_name)\n",
    "        simulation = simulations[\"exact\"]\n",
    "        data = np.array(simulation[\"ev_obs_ex\"][obs_name])\n",
    "        label = obs_name + \" - exact\"\n",
    "        plt.plot(t_vlr, data, label=label, linewidth=2)\n",
    "            \n",
    "        for sim in sims:\n",
    "            simulation = simulations[sim]\n",
    "            sim_label = simulation_label(simulation)\n",
    "            label =  obs_name + \" - \" + sim_label\n",
    "            data = np.array(simulation[\"ev_obs_maxent\"][obs_name])\n",
    "            plt.scatter(t_vlr[::n], data[::n], label=label, linewidth=2)\n",
    "    plt.legend()\n",
    "            \n",
    "\n",
    "\n",
    "pick_sim = widgets.SelectMultiple(options=sorted([key for key in simulations.keys() if key!=\"exact\" and key[0]!=\"_\"]))\n",
    "pick_obs = widgets.SelectMultiple(options=sorted([key for key in simulations[\"exact\"][\"ev_obs_ex\"].keys() if key!=\"time\"]))\n",
    "                 \n",
    "interact=widgets.interact(mostrar_observables, sims=pick_sim   , obs_lst=pick_obs)\n",
    "# mostrar_observables([1,2],[\"obs_SzA\"])    "
   ]
  },
  {
   "cell_type": "code",
   "execution_count": 4,
   "id": "025fcd16",
   "metadata": {},
   "outputs": [
    {
     "data": {
      "application/vnd.jupyter.widget-view+json": {
       "model_id": "84a85ac3c503468ba4716630397a6fd6",
       "version_major": 2,
       "version_minor": 0
      },
      "text/plain": [
       "interactive(children=(SelectMultiple(description='sims', options=('(3,3,0.01,partial_sum)', '(3,3,0.01,weights…"
      ]
     },
     "metadata": {},
     "output_type": "display_data"
    }
   ],
   "source": [
    "def mostrar_velocidades(sims):\n",
    "    if len(sims)==0:\n",
    "        return\n",
    "\n",
    "    fig, ax = plt.subplots(figsize=(6, 4.5))\n",
    "    m = 11\n",
    "    n = 10\n",
    "    simulation = simulations[\"exact\"]\n",
    "    timespan = simulation[\"times\"]\n",
    "    t_vlr = np.array(simulation[\"ev_obs_ex\"][\"time\"]) * vLR            \n",
    "    for sim in sims:\n",
    "        simulation = simulations[sim]\n",
    "        sim_label = simulation_label(simulation)\n",
    "        t_vLR = simulation[\"times_act_ell\"][:-1][::m]\n",
    "        v_ps = simulation[\"velocity_PS_ell\"][::m]\n",
    "        ax.scatter(t_vLR, v_ps, label=sim_label + r\" $1/\\mu$\")\n",
    "        t_vLR = simulation[\"times_act_ell\"][:-1][::n]\n",
    "        v_mu = simulation[\"velocity_mu_ell\"][::n]\n",
    "        ax.plot(t_vLR, v_mu, label=sim_label + r\" $v_{update}$\")\n",
    "    ax.legend()\n",
    "    # Bordures uniquement à gauche et en bas (style minimaliste)\n",
    "    ax.spines['top'].set_visible(False)\n",
    "    ax.spines['right'].set_visible(False)\n",
    "\n",
    "    # Personnalisation des ticks\n",
    "    ax.tick_params(direction='out', length=6, width=2, which='major', grid_alpha=0.6)\n",
    "    ax.grid(True, which='major', linestyle='--', linewidth=0.75, alpha=0.7)\n",
    "\n",
    "    ax.legend(frameon=False, loc='center right')\n",
    "    ax.set_yscale(\"log\")\n",
    "\n",
    "    # Create a secondary x-axis (twinned) and set its limits\n",
    "    ax1 = ax.twiny()\n",
    "    ax1.set_xlim(timespan[0]*vLR, timespan[-1]*vLR)\n",
    "\n",
    "    # Set axis labels\n",
    "    ax.set_xlabel(r'$t v_{\\rm LR} \\, [L]$')\n",
    "    ax1.set_xlabel(r'$t \\, [{\\rm arb. units}]$')\n",
    "\n",
    "    # Format the title using the `params` dictionary values\n",
    "    # Ensure proper LaTeX formatting and consistent escape sequences\n",
    "    plt.title(r'$L={}$, $J_x={}$, $v_{{\\rm LR}}={}$'.format(\n",
    "        simulations[\"_params\"]['size'], \n",
    "        round(simulations[\"_params\"]['Jx'], 3), \n",
    "        round(vLR, 3)\n",
    "    ))\n",
    "\n",
    "    # Adjustment final et affichage\n",
    "    plt.tight_layout()\n",
    "    plt.show()\n",
    "            \n",
    "\n",
    "\n",
    "pick_sim = widgets.SelectMultiple(options=sorted([key for key in simulations.keys() if key!=\"exact\" and key[0]!=\"_\"]))\n",
    "\n",
    "                 \n",
    "interact=widgets.interact(mostrar_velocidades, sims=pick_sim)\n",
    "# mostrar_observables([1,2],[\"obs_SzA\"])    "
   ]
  },
  {
   "cell_type": "code",
   "execution_count": 5,
   "id": "828ef4a2",
   "metadata": {},
   "outputs": [
    {
     "data": {
      "application/vnd.jupyter.widget-view+json": {
       "model_id": "1b7be92b2caf4d33ba37f3ba2a0b983f",
       "version_major": 2,
       "version_minor": 0
      },
      "text/plain": [
       "interactive(children=(SelectMultiple(description='sims', options=('(3,3,0.01,partial_sum)', '(3,3,0.01,weights…"
      ]
     },
     "metadata": {},
     "output_type": "display_data"
    }
   ],
   "source": [
    "def mostrar_errores(sims):\n",
    "    if len(sims)==0:\n",
    "        return\n",
    "\n",
    "    fig, ax = plt.subplots(figsize=(8, 4))\n",
    "    m = 11\n",
    "    n = 10\n",
    "    simulation = simulations[\"exact\"]\n",
    "    timespan = simulation[\"times\"]\n",
    "    t_vlr = np.array(simulation[\"ev_obs_ex\"][\"time\"]) * vLR            \n",
    "    for sim in sims:\n",
    "        simulation = simulations[sim]\n",
    "        error_func = sim.split(\",\")[-1][:-1]\n",
    "        sim_label = error_func + \" - \" + simulation_label(simulation)\n",
    "        t_vLR = simulation[\"times_act_ell\"]\n",
    "        werror = [sum(np.real(errors)**2)**.5   for errors in simulation[\"instantaneous_w_errors\"]]\n",
    "        ax.plot(t_vLR, werror, label=r\"$error bound$ - \" + sim_label )\n",
    "    ax.legend()\n",
    "    # Bordures uniquement à gauche et en bas (style minimaliste)\n",
    "    ax.spines['top'].set_visible(False)\n",
    "    ax.spines['right'].set_visible(False)\n",
    "\n",
    "    # Personnalisation des ticks\n",
    "    ax.tick_params(direction='out', length=6, width=2, which='major', grid_alpha=0.6)\n",
    "    ax.grid(True, which='major', linestyle='--', linewidth=0.75, alpha=0.7)\n",
    "\n",
    "    # ax.legend(frameon=False, loc='center right')\n",
    "\n",
    "    # Create a secondary x-axis (twinned) and set its limits\n",
    "    ax1 = ax.twiny()\n",
    "    ax1.set_xlim(timespan[0]*vLR, timespan[-1]*vLR)\n",
    "\n",
    "    # Set axis labels\n",
    "    ax.set_xlabel(r'$t v_{\\rm LR} \\, [L]$')\n",
    "    # ax1.set_xlabel(r'$t \\, [{\\rm arb. units}]$')\n",
    "    ax.set_ylabel(\"W\")\n",
    "\n",
    "    # Format the title using the `params` dictionary values\n",
    "    # Ensure proper LaTeX formatting and consistent escape sequences\n",
    "    plt.title(r'$L={}$, $J_x={}$, $v_{{\\rm LR}}={}$'.format(\n",
    "        simulations[\"_params\"]['size'], \n",
    "        round(simulations[\"_params\"]['Jx'], 3), \n",
    "        round(vLR, 3)\n",
    "    ))\n",
    "\n",
    "    # Adjustment final et affichage\n",
    "    plt.tight_layout()\n",
    "    plt.show()\n",
    "            \n",
    "\n",
    "\n",
    "pick_sim = widgets.SelectMultiple(options=sorted([key for key in simulations.keys() if key!=\"exact\" and key[0]!=\"_\"]))\n",
    "\n",
    "                 \n",
    "interact=widgets.interact(mostrar_errores, sims=pick_sim)\n",
    "# mostrar_observables([1,2],[\"obs_SzA\"])    "
   ]
  },
  {
   "cell_type": "code",
   "execution_count": 7,
   "id": "08a0e4d0",
   "metadata": {},
   "outputs": [
    {
     "data": {
      "application/vnd.jupyter.widget-view+json": {
       "model_id": "9f5e1e8d294c4f8dbad9df6ebeef0b34",
       "version_major": 2,
       "version_minor": 0
      },
      "text/plain": [
       "interactive(children=(SelectMultiple(description='sims', options=('(3,3,0.01,partial_sum)', '(3,3,0.01,weights…"
      ]
     },
     "metadata": {},
     "output_type": "display_data"
    }
   ],
   "source": [
    "def mostrar_peso_errores(sims):\n",
    "    if len(sims)==0:\n",
    "        return\n",
    "\n",
    "    fig, ax = plt.subplots(figsize=(8, 4))\n",
    "    m = 11\n",
    "    n = 10\n",
    "    simulation = simulations[\"exact\"]\n",
    "    timespan = simulation[\"times\"]\n",
    "    t_vlr = np.array(simulation[\"ev_obs_ex\"][\"time\"]) * vLR            \n",
    "    for sim in sims:\n",
    "        simulation = simulations[sim]\n",
    "        error_func = sim.split(\",\")[-1][:-1]\n",
    "        sim_label = error_func + \" - \" + simulation_label(simulation)\n",
    "        t_vLR = simulation[\"times_act_ell\"]\n",
    "        w_a = np.array(simulation[\"instantaneous_w_errors\"]).transpose()\n",
    "        for i, w_a in enumerate(w_a):\n",
    "            ax.plot(t_vLR, w_a, label=r\"$\\mathcal{W}_{\"+str(i)+\"}$\" + \" - \" + sim_label )\n",
    "    ax.legend()\n",
    "    # Bordures uniquement à gauche et en bas (style minimaliste)\n",
    "    ax.spines['top'].set_visible(False)\n",
    "    ax.spines['right'].set_visible(False)\n",
    "\n",
    "    # Personnalisation des ticks\n",
    "    ax.tick_params(direction='out', length=6, width=2, which='major', grid_alpha=0.6)\n",
    "    ax.grid(True, which='major', linestyle='--', linewidth=0.75, alpha=0.7)\n",
    "\n",
    "    # ax.legend(frameon=False, loc='center right')\n",
    "\n",
    "    # Create a secondary x-axis (twinned) and set its limits\n",
    "    ax1 = ax.twiny()\n",
    "    ax1.set_xlim(timespan[0]*vLR, timespan[-1]*vLR)\n",
    "    # ax.set_yscale(\"log\")\n",
    "\n",
    "    # Set axis labels\n",
    "    ax.set_xlabel(r'$t v_{\\rm LR} \\, [L]$')\n",
    "    # ax1.set_xlabel(r'$t \\, [{\\rm arb. units}]$')\n",
    "    ax.set_ylabel(\"W\")\n",
    "\n",
    "    # Format the title using the `params` dictionary values\n",
    "    # Ensure proper LaTeX formatting and consistent escape sequences\n",
    "    plt.title(r'$L={}$, $J_x={}$, $v_{{\\rm LR}}={}$'.format(\n",
    "        simulations[\"_params\"]['size'], \n",
    "        round(simulations[\"_params\"]['Jx'], 3), \n",
    "        round(vLR, 3)\n",
    "    ))\n",
    "\n",
    "    # Adjustment final et affichage\n",
    "    plt.tight_layout()\n",
    "    plt.show()\n",
    "            \n",
    "\n",
    "\n",
    "pick_sim = widgets.SelectMultiple(options=sorted([key for key in simulations.keys() if key!=\"exact\" and key[0]!=\"_\"]))\n",
    "\n",
    "                 \n",
    "interact=widgets.interact(mostrar_peso_errores, sims=pick_sim)\n",
    "# mostrar_observables([1,2],[\"obs_SzA\"])    "
   ]
  },
  {
   "cell_type": "code",
   "execution_count": null,
   "id": "e446d33b",
   "metadata": {},
   "outputs": [],
   "source": []
  }
 ],
 "metadata": {
  "kernelspec": {
   "display_name": "Python 3 (ipykernel)",
   "language": "python",
   "name": "python3"
  },
  "language_info": {
   "codemirror_mode": {
    "name": "ipython",
    "version": 3
   },
   "file_extension": ".py",
   "mimetype": "text/x-python",
   "name": "python",
   "nbconvert_exporter": "python",
   "pygments_lexer": "ipython3",
   "version": "3.8.19"
  }
 },
 "nbformat": 4,
 "nbformat_minor": 5
}
