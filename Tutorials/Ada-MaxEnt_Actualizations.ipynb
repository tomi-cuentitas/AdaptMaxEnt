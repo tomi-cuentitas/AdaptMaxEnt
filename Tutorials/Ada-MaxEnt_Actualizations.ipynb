{
 "cells": [
  {
   "cell_type": "markdown",
   "id": "67a46621-5a8e-4594-9b40-87ea8d948488",
   "metadata": {},
   "source": [
    "# Actualization Criteria\n",
    "\n",
    "In this tutorial we will explore a few ideas, starting from the notion of restricted Max-Ent dynamics and naturally developing the ideas and methods behind adaptive Max-Ent, designed to address shortcomings of the former. \n",
    "\n",
    "Guide of contents: \n",
    "\n",
    "0. Getting started: basics \n",
    "1. Understanding the restricted Max-Ent scheme\n",
    "   a. Elements, examples & Challenges\n",
    "2. Adaptive Max-Ent scheme \n",
    "   1. Partial Sum criterion\n",
    "   2. Lieb-Robinson criterion"
   ]
  },
  {
   "cell_type": "markdown",
   "id": "172e3ff0-d6db-41cb-aa9d-b12ca28d1cba",
   "metadata": {},
   "source": [
    "## 0. Getting started basics\n",
    "\n",
    "### 0.a Importing libraries\n",
    "First, we import the relevant packages."
   ]
  },
  {
   "cell_type": "code",
   "execution_count": 1,
   "id": "cb79225a-59df-49c0-984c-9cacb154e6f1",
   "metadata": {},
   "outputs": [],
   "source": [
    "import sys \n",
    "path= '../'\n",
    "sys.path.insert(1, path) \n",
    "\n",
    "### long term ev \n",
    "import matplotlib.pyplot as plt\n",
    "import numpy as np\n",
    "\n",
    "# Configuration du style\n",
    "plt.style.use('seaborn-v0_8-whitegrid')\n",
    "plt.rcParams.update({\n",
    "    'font.size': 12,        # Taille de police\n",
    "    'axes.labelsize': 14,   # Taille des labels des axes\n",
    "    'axes.titlesize': 16,   # Taille des titres\n",
    "    'legend.fontsize': 12,  # Taille des légendes\n",
    "    'xtick.labelsize': 12,  # Taille des labels des ticks sur l'axe X\n",
    "    'ytick.labelsize': 12,  # Taille des labels des ticks sur l'axe Y\n",
    "    'font.family': 'serif', # Police de type \"serif\" pour un rendu professionnel\n",
    "    'axes.linewidth': 1.5,  # Largeur des bordures des axes\n",
    "    'grid.alpha': 0.5       # Transparence des grilles\n",
    "})\n",
    "\n",
    "import numpy as np\n",
    "import scipy.linalg as linalg\n",
    "\n",
    "from IPython.display import display_latex\n",
    "from alpsqutip.geometry import graph_from_alps_xml, list_graph_in_alps_xml\n",
    "from alpsqutip.alpsmodels import list_operators_in_alps_xml,model_from_alps_xml\n",
    "from alpsqutip.utils import eval_expr\n",
    "from alpsqutip.model import SystemDescriptor\n",
    "\n",
    "import qutip as qutip\n",
    "from typing import Callable, Optional, Tuple\n",
    "\n",
    "models_lib_file = \"../alpsqutip/lib/models.xml\"\n",
    "lattice_lib_file = \"../alpsqutip/lib/lattices.xml\""
   ]
  },
  {
   "cell_type": "code",
   "execution_count": 11,
   "id": "783bbdad-365f-43c5-96d8-309666776398",
   "metadata": {},
   "outputs": [],
   "source": [
    "from alpsqutip import restricted_maxent_toolkit as me ## custom library including basic linear algebra functions \n",
    "from alpsqutip.proj_evol import safe_exp_and_normalize ## function used to safely and robustly map K-states to states\n",
    "from alpsqutip.operators.states.meanfield import one_body_from_qutip_operator, project_to_n_body_operator, self_consistent_quadratic_mfa\n",
    "## functions used for Mean-Field projections"
   ]
  },
  {
   "cell_type": "markdown",
   "id": "afed0b04-e94f-40cf-a726-d022719d65ee",
   "metadata": {},
   "source": [
    "### 0.b Constructing the Hamiltonian \n",
    "\n",
    "Using the ALPS library, we construct a one-dimensional $L=7$ qubit **XYZ** spin chain with open boundary conditions as well as some operators of interest. \n",
    "\n",
    "We define the relevant parameters of the system for our one-dimensional **XYZ** Hamiltonian with open boundary conditions, that is, $J_x, J_y, J_z$ with no external magentic field. \n",
    "\n",
    "In particular, as it will become relevant later on, we calculate the Lieb-Robinson velocity $v_{\\rm LR}$ which depends solely on the previously aforementioned parameters and is an intrinsic property of the system.  \n",
    "\n",
    "The full derivation, drawn from the commutativity diagram of the system, can be found in Wang et al. (2020). "
   ]
  },
  {
   "cell_type": "code",
   "execution_count": 3,
   "id": "e77ffbf3-52b0-4b49-8af4-24f3fdf94bf4",
   "metadata": {},
   "outputs": [],
   "source": [
    "params={}\n",
    "\n",
    "params['size']=7\n",
    "params['Jx']=1.; params['Jy'] = .75*params['Jx']; params['Jz']=1.05*params['Jx']\n",
    "\n",
    "from scipy.optimize import root, fsolve\n",
    "Ffactor=np.real(max(np.roots(np.poly1d([1, 0, -(params['Jx']*params['Jy']+params['Jx']*params['Jy']+params['Jy']*params['Jz']), \n",
    "                           -2*params['Jx']*params['Jy']*params['Jz']]))))\n",
    "chi_y=fsolve(lambda x,y: x*np.arcsinh(x)-np.sqrt(x**2+1)-y, 1e-1, args=(0))[0]\n",
    "vLR=4*Ffactor*chi_y"
   ]
  },
  {
   "cell_type": "code",
   "execution_count": 4,
   "id": "bf82b1c7-d693-4916-b27b-ce1cb0fb6a6c",
   "metadata": {},
   "outputs": [],
   "source": [
    "system=SystemDescriptor(\n",
    "    model=model_from_alps_xml(models_lib_file, \"spin\"),\n",
    "    graph=graph_from_alps_xml(lattice_lib_file, \"open chain lattice\", parms={\"L\":params['size'], \"a\":1}),\n",
    "    parms={\"h\":0,\"J\":params['Jx']}\n",
    ")\n",
    "\n",
    "sites=[s for s in system.sites]\n",
    "sx_ops=[system.site_operator(\"Sx\", '1[' + str(a) + ']') for a in range(len(system.sites))]\n",
    "sy_ops=[system.site_operator(\"Sy\", '1[' + str(a) + ']') for a in range(len(system.sites))]\n",
    "sz_ops=[system.site_operator(\"Sz\", '1[' + str(a) + ']') for a in range(len(system.sites))]\n",
    "\n",
    "H = (params['Jx']*sum(sx_ops[i]*sx_ops[i+1] for i in range(params['size']-1)) + params['Jy']*sum(sy_ops[i]*sy_ops[i+1] for i in range(params['size']-1))\n",
    "     +params['Jz']*sum(sz_ops[i]*sz_ops[i+1] for i in range(params['size']-1)))\n",
    "idop=system.site_operator(\"identity\", sites[0])"
   ]
  },
  {
   "cell_type": "markdown",
   "id": "4743f13b-8251-47a2-b6c6-c8df121a5e55",
   "metadata": {},
   "source": [
    "### 0.c Defining the initial state\n",
    "\n",
    "In general, and without any loss of generality, the initial state of the system $\\rho(0)=\\rho_0=e^{-{\\bf K}}$ is known in such a way that the initial Max-Ent state coincides ${\\bf K}_0 = \\log \\sigma_0 = \\log \\rho(0)$. We are interested in the following state, \n",
    "\n",
    "$$\n",
    "    {\\bf K}= \\vec{\\phi(0)_{i=1}} \\cdot \\vec{{\\bf S}_{i=1}},\n",
    "$$\n",
    "\n",
    "leading to \n",
    "\n",
    "$$\n",
    "    \\rho_0=\\sigma_0=|{\\uparrow}\\rangle \\langle \\uparrow|_{i=1} \\otimes {\\rm Id}_{i \\neq 1}.\n",
    "$$"
   ]
  },
  {
   "cell_type": "code",
   "execution_count": 5,
   "id": "96b9a3f9-0f1b-4998-b9cd-955f89c53ae0",
   "metadata": {},
   "outputs": [
    {
     "data": {
      "text/plain": [
       "[0.4999968750292966, 0.0, 0.0, 0.0, 0.0, 0.0, 0.0]"
      ]
     },
     "execution_count": 5,
     "metadata": {},
     "output_type": "execute_result"
    }
   ],
   "source": [
    "HBB0=[idop, system.site_operator('Sx', '1[0]'), system.site_operator('Sy', '1[0]'), system.site_operator('Sz', '1[0]')]\n",
    "\n",
    "phi0 = np.array([.0, .25, .25, -100.])\n",
    "K0 = me.Kstate_from_phi_basis(phi0, HBB0)\n",
    "sigma0 = safe_exp_and_normalize(K0)[0]\n",
    "phi0[0] = np.log(sigma0.tr())\n",
    "K0 = me.Kstate_from_phi_basis(phi0, HBB0)\n",
    "sigma0 = safe_exp_and_normalize(K0)[0]\n",
    "[(sigma0 * op).tr() for op in sz_ops] "
   ]
  },
  {
   "cell_type": "markdown",
   "id": "6e147d9c-9257-44d1-be41-aa0ef14689c6",
   "metadata": {},
   "source": [
    "Moreover, we define a few quantities of interest and the simulation timespan."
   ]
  },
  {
   "cell_type": "code",
   "execution_count": 6,
   "id": "7dc537e8-d350-49e1-830a-d84b57b15ee7",
   "metadata": {},
   "outputs": [],
   "source": [
    "ptrace_list=[i for i in range(0,3)]\n",
    "obs_SzA=.5*qutip.tensor(qutip.sigmaz(),qutip.qeye(2),qutip.qeye(2))+.5*qutip.tensor(qutip.qeye(2),qutip.sigmaz(),qutip.qeye(2))+.5*qutip.tensor(qutip.qeye(2),qutip.qeye(2),qutip.sigmaz())\n",
    "obs_Sx3Sx4=(sx_ops[2]*sy_ops[3]).to_qutip()\n",
    "\n",
    "timespan=np.linspace(.0, 650.1/vLR,800)"
   ]
  },
  {
   "cell_type": "markdown",
   "id": "ae32066a-a5e8-4107-9b75-16e207c74fd8",
   "metadata": {},
   "source": [
    "## 2. Understanding the Restricted Max-Ent Scheme  \n",
    "### a. Elements, Examples, & Challenges  \n",
    "\n",
    "The Restricted Max-Ent framework consists of the following key elements:  \n",
    "\n",
    "* **Basis of Observables**:  \n",
    "  In the case of time-independent Hamiltonians, the optimal choice for the basis is a **Hierarchical Basis**. This basis systematically expands the Krylov subspace, ensuring that the most relevant observables for the system's dynamics are included.  \n",
    "\n",
    "* **Instantaneous Scalar Product**:  \n",
    "  The scalar product plays a crucial role in defining the orthogonality and normalization conditions within the Restricted Max-Ent scheme. It determines how observables and state updates are related during the evolution process.  \n",
    "\n",
    "In this demo, we present a simplified version of the Restricted Max-Ent scheme. Specifically:  \n",
    "- The equation of motion is **linearized**, allowing for more computationally efficient updates.  \n",
    "- The scalar product is **fixed to the initial state**, $\\sigma_0$, rather than adapting dynamically. This simplification highlights the fundamental aspects of the approach while avoiding the complexities of fully updating the scalar product at each time step.  \n",
    "\n",
    "### Challenges in the Restricted Max-Ent Scheme:  \n",
    "1. **Dynamic Adaptation of the Basis**:  \n",
    "   As the system evolves, the Krylov subspace may need frequent updates, especially when the Lieb-Robinson velocity bounds are exceeded, requiring computationally expensive actualizations.  \n",
    "\n",
    "2. **Error Propagation**:  \n",
    "   Linearizing the equation of motion can introduce truncation errors that accumulate over time. This necessitates careful monitoring of errors and potential re-orthogonalization steps.  \n",
    "\n",
    "3. **Scalability**:  \n",
    "   Extending this framework to larger systems or higher-dimensional Hilbert spaces remains challenging due to the exponential growth of the basis size.  \n",
    "\n",
    "This demo aims to provide an intuitive understanding of the Restricted Max-Ent scheme's core components while demonstrating its application to time-evolving quantum systems.  \n"
   ]
  },
  {
   "cell_type": "code",
   "execution_count": 7,
   "id": "854b35e2-f01d-4fc4-913b-c669b5c94bfb",
   "metadata": {},
   "outputs": [],
   "source": [
    "sp_local_non_act=me.fetch_covar_scalar_product(sigma=sigma0.to_qutip()) ## choosing of the scalar product\n",
    "HBB_ell_non_act=me.build_Hierarch(generator=H, seed_op=K0.to_qutip(), deep=4) ## Hierarchical Basis of \n",
    "\n",
    "orth_basis_non_act=me.orthogonalize_basis(basis=HBB_ell_non_act, sp=sp_local_non_act)\n",
    "\n",
    "Hij_tensor_non_act=me.fn_Hij_tensor(generator=H.to_qutip(),\n",
    "                                 basis=orth_basis_non_act, \n",
    "                                 sp=sp_local_non_act) ## construction of the Max-Ent generator of transformations. \n",
    "\n",
    "phi0_proj_non_act=np.real(me.project_op(K0.to_qutip(), orth_basis_non_act, sp_local_non_act)) ## initial condition\n",
    "\n",
    "phi_at_timet=[linalg.expm(Hij_tensor_non_act * (t-0))@phi0_proj_non_act for t in timespan] ## time-evolved coefficients\n",
    "\n",
    "K_at_timet=[me.Kstate_from_phi_basis(phi=-phi_at_timet_ti, basis=orth_basis_non_act) for phi_at_timet_ti in phi_at_timet] ## Kstates\n",
    "\n",
    "sigma_at_timet=[safe_exp_and_normalize(K_at_timet_ti)[0] for K_at_timet_ti in K_at_timet] ## sigma-states\n",
    "\n",
    "ev_obs1 = np.array([qutip.expect(sigma_at_timet_ti.ptrace(ptrace_list), obs_SzA) for sigma_at_timet_ti in sigma_at_timet])"
   ]
  },
  {
   "cell_type": "markdown",
   "id": "3da0f15a-ff9a-4c7d-b8cf-3a9a43a3ab7e",
   "metadata": {},
   "source": [
    "On the other hand, we compute the exact evolution with QuTip and compare"
   ]
  },
  {
   "cell_type": "code",
   "execution_count": 8,
   "id": "33f8abce-e223-47fc-8824-325caf9679dc",
   "metadata": {},
   "outputs": [],
   "source": [
    "## exact dynamics\n",
    "exact_K_at_timet=qutip.mesolve(H=H.to_qutip(), rho0=K0.to_qutip(), tlist=timespan)\n",
    "exact_rho_at_timet=[safe_exp_and_normalize(K_at_timeti)[0] for K_at_timeti in exact_K_at_timet.states]\n",
    "evs_obs_ex=[qutip.expect(rho_at_timeti.ptrace(ptrace_list), obs_SzA) for rho_at_timeti in exact_rho_at_timet]"
   ]
  },
  {
   "cell_type": "code",
   "execution_count": 9,
   "id": "f8834b98-69de-428a-b93e-cf8fdd5e078b",
   "metadata": {},
   "outputs": [
    {
     "name": "stderr",
     "output_type": "stream",
     "text": [
      "/home/mauricio/.conda/envs/jupyter/lib/python3.8/site-packages/matplotlib/cbook/__init__.py:1340: ComplexWarning: Casting complex values to real discards the imaginary part\n",
      "  return np.asarray(x, float)\n"
     ]
    },
    {
     "data": {
      "image/png": "[encoded data removed]",
      "text/plain": [
       "<Figure size 600x600 with 2 Axes>"
      ]
     },
     "metadata": {},
     "output_type": "display_data"
    }
   ],
   "source": [
    "# Création de la figure et des axes\n",
    "fig, ax = plt.subplots(figsize=(6, 6))\n",
    "\n",
    "n=5\n",
    "ax.plot(timespan * vLR, evs_obs_ex, label='Exact', color=\"blue\", linestyle='dashdot', linewidth=2)\n",
    "ax.plot(timespan[::n] * vLR, ev_obs1[::n], label='Max-Ent', color='red', linestyle='--', marker='D', linewidth=0.5)\n",
    "\n",
    "# Bordures uniquement à gauche et en bas (style minimaliste)\n",
    "ax.spines['top'].set_visible(False)\n",
    "ax.spines['right'].set_visible(False)\n",
    "\n",
    "# Personnalisation des ticks\n",
    "ax.tick_params(direction='out', length=6, width=2, which='major', grid_alpha=0.6)\n",
    "ax.grid(True, which='major', linestyle='--', linewidth=0.75, alpha=0.7)\n",
    "\n",
    "ax.legend(frameon=False, loc='upper left')\n",
    "\n",
    "# Create a secondary x-axis (twinned) and set its limits\n",
    "ax1 = ax.twiny()\n",
    "ax1.set_xlim(timespan[0], timespan[-1])\n",
    "\n",
    "# Set axis labels\n",
    "ax.set_xlabel(r'$t v_{\\rm LR} \\, [L]$')\n",
    "ax1.set_xlabel(r'$t \\, [{\\rm arb. units}]$')\n",
    "\n",
    "# Format the title using the `params` dictionary values\n",
    "# Ensure proper LaTeX formatting and consistent escape sequences\n",
    "plt.title(r'$L={}$, $J_x={}$, $v_{{\\rm LR}}={}$'.format(\n",
    "    params['size'], \n",
    "    round(params['Jx'], 3), \n",
    "    round(vLR, 3)\n",
    "))\n",
    "\n",
    "# Adjustment final et affichage\n",
    "plt.tight_layout()"
   ]
  },
  {
   "cell_type": "markdown",
   "id": "cb95f3b1-67f5-4875-9923-03ea85d2bc84",
   "metadata": {},
   "source": [
    "# 2. Adaptive Max-Ent Schemes  \n",
    "\n",
    "Restricted Max-Ent dynamics provide an accurate representation of quantum evolution for short-term dynamics. However, as time progresses, the **polynomial buildup of error** becomes evident, limiting the validity of the restricted Max-Ent approac\n",
    ". This limitation arises from the fact that a **fixed basis** can only capture the relevant correlations and observablefor so longme.  \n",
    "\n",
    "Despite these limitations, it can be proven (using Lieb-Robinson bounds) that restricted Max-Ent dynamics are **exact for short-term evolution**. This motivates the idea of extending its applicability by introducing **aatdaptmethodsisms** to dynamically update the basis and scalar products. These updates allow the framework to correct deviations and force it to closely follow the exact dynamics over longer timescales\n",
    "In the following cells, we provide the **code implementation** for these actualization criteria, illustrating how they dynamically update the restricted Max-Ent framework to achieve accurate and adaptable dynamics.  \n",
    ".  \n",
    "\n",
    "### Theat Adaptive Approach  \n",
    "The central concept of adaptive Max-Ent schemes is to exploit the success of short-term restricted Max-Ent dynamics and systematically **update the basis and scalar products** using predefined criteria. By incorporating these updates, the method can extend its validity to longer times while maintaining accuracy.  \n",
    "\n",
    "In particular, there are **two approaches** to determine the actualization times, which we detail below:  \n",
    "\n",
    "### 2.1 Partial Sum Criterion  \n",
    "This approach leverages the convergDysonf the Krylov expansion by monitoring the **partialof the basis coefficients**. The idea is to track the contribution of higher-order terms in the expansion:  \n",
    "- If the contribution of higher-order terms exceeds a predefined threshold, the current basis is deemed insufficient, and the actualization is triggered.  \n",
    "- During actualization, the basis is updated by including higher-order observables, and the scalar product is recalculated to reflect the updated state.  \n",
    "\n",
    "This criterion is computationally efficient, as it directly ties the actualization to the system's dynamical properties, ensuring updates are performed only wdaptable dynamics.  \n"
   ]
  },
  {
   "cell_type": "code",
   "execution_count": 10,
   "id": "38c92b69-02e1-430b-a266-d8c1e42d3838",
   "metadata": {},
   "outputs": [
    {
     "name": "stdout",
     "output_type": "stream",
     "text": [
      "error 30.27767224019818\n"
     ]
    },
    {
     "ename": "TypeError",
     "evalue": "'<' not supported between instances of 'complex' and 'float'",
     "output_type": "error",
     "traceback": [
      "\u001b[0;31m---------------------------------------------------------------------------\u001b[0m",
      "\u001b[0;31mTypeError\u001b[0m                                 Traceback (most recent call last)",
      "Cell \u001b[0;32mIn[10], line 60\u001b[0m\n\u001b[1;32m     58\u001b[0m sp_local \u001b[38;5;241m=\u001b[39m me\u001b[38;5;241m.\u001b[39mfetch_covar_scalar_product(sigma\u001b[38;5;241m=\u001b[39msigma_local)  \n\u001b[1;32m     59\u001b[0m HBB_ell_act \u001b[38;5;241m=\u001b[39m me\u001b[38;5;241m.\u001b[39mbuild_Hierarch(generator\u001b[38;5;241m=\u001b[39mH, seed_op\u001b[38;5;241m=\u001b[39mK_local, deep\u001b[38;5;241m=\u001b[39mchosen_depth)  \n\u001b[0;32m---> 60\u001b[0m orth_basis_act \u001b[38;5;241m=\u001b[39m \u001b[43mme\u001b[49m\u001b[38;5;241;43m.\u001b[39;49m\u001b[43morthogonalize_basis\u001b[49m\u001b[43m(\u001b[49m\u001b[43mbasis\u001b[49m\u001b[38;5;241;43m=\u001b[39;49m\u001b[43mHBB_ell_act\u001b[49m\u001b[43m,\u001b[49m\u001b[43m \u001b[49m\u001b[43msp\u001b[49m\u001b[38;5;241;43m=\u001b[39;49m\u001b[43msp_local\u001b[49m\u001b[43m)\u001b[49m  \n\u001b[1;32m     62\u001b[0m \u001b[38;5;66;03m# Recompute the Hamiltonian tensor and project the state\u001b[39;00m\n\u001b[1;32m     63\u001b[0m Hij_tensor_act \u001b[38;5;241m=\u001b[39m me\u001b[38;5;241m.\u001b[39mfn_Hij_tensor(generator\u001b[38;5;241m=\u001b[39mH\u001b[38;5;241m.\u001b[39mto_qutip(), basis\u001b[38;5;241m=\u001b[39morth_basis_act, sp\u001b[38;5;241m=\u001b[39msp_local)  \n",
      "File \u001b[0;32m~/Projects/AdaptMaxEnt/Tutorials/../alpsqutip/restricted_maxent_toolkit.py:159\u001b[0m, in \u001b[0;36morthogonalize_basis\u001b[0;34m(basis, sp, tol)\u001b[0m\n\u001b[1;32m    144\u001b[0m \u001b[38;5;28;01mdef\u001b[39;00m \u001b[38;5;21morthogonalize_basis\u001b[39m(basis, sp:\u001b[38;5;28mcallable\u001b[39m, tol\u001b[38;5;241m=\u001b[39m\u001b[38;5;241m1e-5\u001b[39m):\n\u001b[1;32m    145\u001b[0m \u001b[38;5;250m    \u001b[39m\u001b[38;5;124;03m\"\"\"\u001b[39;00m\n\u001b[1;32m    146\u001b[0m \u001b[38;5;124;03m    Orthogonalize a given basis of operators using the default method.\u001b[39;00m\n\u001b[1;32m    147\u001b[0m \n\u001b[0;32m   (...)\u001b[0m\n\u001b[1;32m    157\u001b[0m \u001b[38;5;124;03m        AssertionError: If the orthogonalized basis does not satisfy orthonormality within the specified tolerance.\u001b[39;00m\n\u001b[1;32m    158\u001b[0m \u001b[38;5;124;03m    \"\"\"\u001b[39;00m\n\u001b[0;32m--> 159\u001b[0m     \u001b[38;5;28;01mreturn\u001b[39;00m \u001b[43morthogonalize_basis_gs\u001b[49m\u001b[43m(\u001b[49m\u001b[43mbasis\u001b[49m\u001b[43m,\u001b[49m\u001b[43m \u001b[49m\u001b[43msp\u001b[49m\u001b[43m,\u001b[49m\u001b[43m \u001b[49m\u001b[43mtol\u001b[49m\u001b[43m)\u001b[49m\n",
      "File \u001b[0;32m~/Projects/AdaptMaxEnt/Tutorials/../alpsqutip/restricted_maxent_toolkit.py:180\u001b[0m, in \u001b[0;36morthogonalize_basis_gs\u001b[0;34m(basis, sp, tol)\u001b[0m\n\u001b[1;32m    178\u001b[0m \u001b[38;5;28;01mfor\u001b[39;00m op_orig \u001b[38;5;129;01min\u001b[39;00m basis:\n\u001b[1;32m    179\u001b[0m     norm \u001b[38;5;241m=\u001b[39m np\u001b[38;5;241m.\u001b[39mreal(sp(op_orig,op_orig))\u001b[38;5;241m*\u001b[39m\u001b[38;5;241m*\u001b[39m\u001b[38;5;241m.5\u001b[39m\n\u001b[0;32m--> 180\u001b[0m     \u001b[38;5;28;01mif\u001b[39;00m \u001b[43mnorm\u001b[49m\u001b[38;5;241;43m<\u001b[39;49m\u001b[43mtol\u001b[49m:\n\u001b[1;32m    181\u001b[0m         \u001b[38;5;28;01mcontinue\u001b[39;00m\n\u001b[1;32m    182\u001b[0m     changed \u001b[38;5;241m=\u001b[39m \u001b[38;5;28;01mFalse\u001b[39;00m\n",
      "\u001b[0;31mTypeError\u001b[0m: '<' not supported between instances of 'complex' and 'float'"
     ]
    }
   ],
   "source": [
    "chosen_depth=4\n",
    "# Initialize variables to track errors, saved cut times, expectation values, and commutators\n",
    "local_bound_error = []; saved_cut_times_index = [0]; \n",
    "no_acts = [0]; number_of_commutators = [chosen_depth]\n",
    "\n",
    "ev_obs_maxent_act_partialSum = [qutip.expect(sigma0.to_qutip().ptrace(ptrace_list), obs_SzA)]\n",
    "\n",
    "# Compute the scalar product operator used for orthogonalization\n",
    "sp_local = me.fetch_covar_scalar_product(sigma=sigma0.to_qutip()); local_t_value = .0  \n",
    "\n",
    "# Build the initial Krylov basis and orthogonalize it\n",
    "HBB_ell_act = me.build_Hierarch(generator=H, seed_op=K0.to_qutip(), deep=chosen_depth)  \n",
    "orth_basis_act = me.orthogonalize_basis(basis=HBB_ell_act, sp=sp_local)  \n",
    "\n",
    "# Compute the Hamiltonian tensor for the basis\n",
    "Hij_tensor_act = me.fn_Hij_tensor(generator=H.to_qutip(), basis=orth_basis_act, sp=sp_local)  \n",
    "\n",
    "# Initial condition\n",
    "phi0_proj_act = me.project_op(K0.to_qutip(), orth_basis_act, sp_local)  \n",
    "\n",
    "# Initialize lists to store time-evolved values\n",
    "phi_at_timet = [phi0_proj_act]  \n",
    "K_at_timet = [K0.to_qutip()]  \n",
    "sigma_at_timet = [me.safe_expm_and_normalize(K_at_timet[0])]  \n",
    "\n",
    "# Iterate through the time steps\n",
    "for t in timespan[1:]:\n",
    "    # Evolve the state phi(t) for a small time window\n",
    "    phi_local = np.real(linalg.expm(Hij_tensor_act * (t - local_t_value)) @ phi0_proj_act)  \n",
    "    \n",
    "    # Compute the new K-state from the orthogonal basis and phi(t)\n",
    "    K_local = me.Kstate_from_phi_basis(phi=-phi_local, basis=orth_basis_act)  \n",
    "    \n",
    "    # Normalize to obtain the updated density matrix sigma(t)\n",
    "    sigma_local = safe_exp_and_normalize(K_local)[0]  \n",
    "    \n",
    "    # Record expectation values of the observable\n",
    "    ev_obs_maxent_act_partialSum.append(qutip.expect(sigma_local.ptrace(ptrace_list), obs_SzA))  \n",
    "    \n",
    "    # Calculate the local error bound using partial sums\n",
    "    local_bound_error.append(me.m_th_partial_sum(phi=phi_local, m=2) / me.m_th_partial_sum(phi=phi_local, m=0))  \n",
    "    \n",
    "    # Check if the local error exceeds the threshold\n",
    "    if abs(local_bound_error[-1]) >= 1e-2:\n",
    "        # If positive, perform actualization\n",
    "        no_acts.append(no_acts[-1] + 1)  \n",
    "        number_of_commutators.append(number_of_commutators[-1] + 3)  \n",
    "\n",
    "        # Log errors at specific intervals for debugging\n",
    "        if list(timespan).index(t) % 50 == 0:  \n",
    "            print(\"error\", t)  \n",
    "        \n",
    "        # Update the local time value and save the cut time index\n",
    "        local_t_value = t  \n",
    "        saved_cut_times_index.append(list(timespan).index(t))  \n",
    "        \n",
    "        # Recompute the scalar product and update the Krylov basis\n",
    "        sp_local = me.fetch_covar_scalar_product(sigma=sigma_local)  \n",
    "        HBB_ell_act = me.build_Hierarch(generator=H, seed_op=K_local, deep=chosen_depth)  \n",
    "        orth_basis_act = me.orthogonalize_basis(basis=HBB_ell_act, sp=sp_local)  \n",
    "        \n",
    "        # Recompute the Hamiltonian tensor and project the state\n",
    "        Hij_tensor_act = me.fn_Hij_tensor(generator=H.to_qutip(), basis=orth_basis_act, sp=sp_local)  \n",
    "        phi0_proj_act = me.project_op(K_local, orth_basis_act, sp_local)  \n",
    "    else:\n",
    "        # If error is below the threshold, retain the current basis and sp\n",
    "        number_of_commutators.append(number_of_commutators[-1])  \n",
    "        no_acts.append(no_acts[-1])  \n"
   ]
  },
  {
   "cell_type": "markdown",
   "id": "48bf6a5b-5e08-4412-97d1-2b1d3b75d2b6",
   "metadata": {},
   "source": [
    "## 2.2.B Lieb-Robinson Criterion\n",
    "\n",
    "The **Lieb-Robinson Criterion** provides a natural way to determine actualization times by leveraging the concept of the **Lieb-Robinson velocity** $v_{\\rm LR}$. This velocity represents the (finite) speed at which information propagates through a quantum system, setting an effective \"light cone\" for correlations and observables.  \n",
    "\n",
    "#### Key Idea:  \n",
    "\n",
    "The basis and scalar products used in the Restricted Max-Ent framework should remain accurate within the bounds imposed by $v_{\\rm LR}$. Once the system's evolution starts introducing correlations or observables outside this effective light cone, the existing basis becomes insufficient, and actualization is triggered.\n",
    "\n",
    "#### Implementation:  \n",
    "\n",
    "1. **Defining Actualization Times**:  \n",
    "   - Divide the total simulation timespan into **slices** based on the Lieb-Robinson velocity, such that:  \n",
    "     $$ t_{\\rm cut} = m \\frac{\\ell}{v_{\\rm LR}} $$  \n",
    "     Here, $\\ell$ represents the depth of the Hierarchical Basis, $m$ is an integer, and $t_{\\rm cut}$ represents the cut times at which the updates occur.  \n",
    "\n",
    "2. **Monitoring the Evolution**:  \n",
    "   - The system's state and observables are evolved within each time slice.  \n",
    "   - At the end of the slice, the basis is checked for relevance based on $v_{\\rm LR}$. If necessary, the basis and scalar products are updated to ensure that the dynamics remain consistent with the exact evolution.  \n",
    "\n",
    "3. **Advantages**:  \n",
    "   - The Lieb-Robinson Criterion ensures that updates are **causality-preserving**, as new observables and correlations only appear within the physical bounds of information propagation.  \n",
    "   - It avoids unnecessary updates by coupling the actualization strictly to the system's dynamical properties, ensuring efficiency.  \n",
    "\n",
    "#### Application in the Adaptive Max-Ent Scheme:  \n",
    "\n",
    "This criterion is particularly useful for systems with **localized interactions**, where $v_{\\rm LR}$ provides a clear indication of how quickly correlations spread. By aligning the updates to $t_{\\rm cut}$, the Adaptive Max-Ent scheme can accurately follow the exact dynamics while maintaining computational efficiency.\n",
    " computational efficiency.\n",
    "for long-term evolution.  \n"
   ]
  },
  {
   "cell_type": "code",
   "execution_count": null,
   "id": "272071da-5a82-4fd0-8e1e-ff87ce3290fd",
   "metadata": {},
   "outputs": [],
   "source": [
    "# Define the range of time slices based on Lieb-Robinson velocity (vLR)\n",
    "ells = [ell for ell in range(0, int(timespan[-1] * vLR) + 1, 1)]  \n",
    "tcuts = [ell / vLR for ell in ells]  # Compute cut times from velocity\n",
    "sliced_times = me.slice_times(timespan, tcuts)  # Slice the timespan into segments based on cut times\n",
    "\n",
    "# Initialize the first Krylov state and compute the first expectation value\n",
    "K_local_last = me.Kstate_from_phi_basis(phi=phi0, basis=HBB0).to_qutip()  \n",
    "ev_obs_maxent_LR = [qutip.expect(safe_exp_and_normalize(K_local_last)[0].ptrace(ptrace_list), obs_SzA)]  \n",
    "\n",
    "# Loop over all slices based on the Lieb-Robinson scheme\n",
    "for ell in ells:\n",
    "    print(\"Starting simulation: d=\", ell)  \n",
    "    \n",
    "    # Fetch the scalar product operator for orthogonalization\n",
    "    sp_local_act = me.fetch_covar_scalar_product(sigma=safe_exp_and_normalize(K_local_last)[0])  \n",
    "    \n",
    "    # Build and orthogonalize the Krylov basis for this segment\n",
    "    HBB_ell_act = me.build_Hierarch(generator=H, seed_op=K0.to_qutip(), deep=chosen_depth+1)  \n",
    "    orth_basis_act = me.orthogonalize_basis(basis=HBB_ell_act, sp=sp_local_act)  \n",
    "    \n",
    "    # Compute the Hamiltonian tensor and project the state onto the basis\n",
    "    Hij_tensor_act = me.fn_Hij_tensor(generator=H.to_qutip(), basis=orth_basis_act, sp=sp_local_act)  \n",
    "    phi0_proj_act = me.project_op(K_local_last, orth_basis_act, sp=sp_local_act)  \n",
    "    \n",
    "    # Time-evolve the state within the current slice\n",
    "    phi_at_timet = [linalg.expm(Hij_tensor_act * (t - sliced_times[ell][0])) @ np.real(phi0_proj_act) \n",
    "                    for t in sliced_times[ell]]  \n",
    "    \n",
    "    # Convert evolved states into K-states and compute the density matrices\n",
    "    K_at_timet = [me.Kstate_from_phi_basis(phi=-phi_at_timet_ti, basis=orth_basis_act) \n",
    "                  for phi_at_timet_ti in phi_at_timet]  \n",
    "    sigma_at_timet_local = [safe_exp_and_normalize(K_at_timet_ti)[0].ptrace(ptrace_list) \n",
    "                            for K_at_timet_ti in K_at_timet]  \n",
    "    \n",
    "    # Compute expectation values for the observable over the segment\n",
    "    ev_obs_maxent_LR += [qutip.expect(sigma_at_timet_local_ti, obs_SzA) \n",
    "                         for sigma_at_timet_local_ti in sigma_at_timet_local]  \n",
    "    \n",
    "    # Update the last K-state for the next segment and clean up temporary variables\n",
    "    K_local_last = K_at_timet[-1]  \n",
    "    phi_at_timet = None  \n",
    "    K_at_timet = None  \n",
    "    \n",
    "    print(\"Finishing simulation.\")  # End of the segment simulation\n"
   ]
  },
  {
   "cell_type": "code",
   "execution_count": null,
   "id": "4b3e6298-822a-4679-8f0a-af550ef23a10",
   "metadata": {},
   "outputs": [],
   "source": [
    "# Création de la figure et des axes\n",
    "fig, ax = plt.subplots(figsize=(6, 6))\n",
    "\n",
    "n=30\n",
    "ax.plot(timespan * vLR, evs_obs_ex, label='Exact', color=\"blue\", linestyle='dashdot', linewidth=2)\n",
    "ax.plot(timespan[::n] * vLR, ev_obs_maxent_act_partialSum[::n], label='Adap. Max-Ent - Partial Sum', color='red', linestyle='--', marker='D', linewidth=0.5)\n",
    "ax.plot(timespan[::n] * vLR, ev_obs_maxent_LR[:-1][::n], label='Adap. Max-Ent - Lieb Robinson', color='orange', linestyle='dashed')\n",
    "\n",
    "# Bordures uniquement à gauche et en bas (style minimaliste)\n",
    "ax.spines['top'].set_visible(False)\n",
    "ax.spines['right'].set_visible(False)\n",
    "\n",
    "# Personnalisation des ticks\n",
    "ax.tick_params(direction='out', length=6, width=2, which='major', grid_alpha=0.6)\n",
    "ax.grid(True, which='major', linestyle='--', linewidth=0.75, alpha=0.7)\n",
    "\n",
    "ax.legend(frameon=False, loc='upper left')\n",
    "\n",
    "# Create a secondary x-axis (twinned) and set its limits\n",
    "ax1 = ax.twiny()\n",
    "ax1.set_xlim(timespan[0], timespan[-1])\n",
    "\n",
    "# Set axis labels\n",
    "ax.set_xlabel(r'$t v_{\\rm LR} \\, [L]$')\n",
    "ax1.set_xlabel(r'$t \\, [{\\rm arb. units}]$')\n",
    "\n",
    "# Format the title using the `params` dictionary values\n",
    "# Ensure proper LaTeX formatting and consistent escape sequences\n",
    "plt.title(r'$L={}$, $J_x={}$, $v_{{\\rm LR}}={}$'.format(\n",
    "    params['size'], \n",
    "    round(params['Jx'], 3), \n",
    "    round(vLR, 3)\n",
    "))\n",
    "\n",
    "# Adjustment final et affichage\n",
    "plt.tight_layout()"
   ]
  },
  {
   "cell_type": "code",
   "execution_count": null,
   "id": "c49930aa",
   "metadata": {},
   "outputs": [],
   "source": []
  },
  {
   "cell_type": "code",
   "execution_count": null,
   "id": "89a5ee2f",
   "metadata": {},
   "outputs": [],
   "source": []
  },
  {
   "cell_type": "code",
   "execution_count": null,
   "id": "576de240",
   "metadata": {},
   "outputs": [],
   "source": []
  }
 ],
 "metadata": {
  "kernelspec": {
   "display_name": "Python 3 (ipykernel)",
   "language": "python",
   "name": "python3"
  },
  "language_info": {
   "codemirror_mode": {
    "name": "ipython",
    "version": 3
   },
   "file_extension": ".py",
   "mimetype": "text/x-python",
   "name": "python",
   "nbconvert_exporter": "python",
   "pygments_lexer": "ipython3",
   "version": "3.8.19"
  }
 },
 "nbformat": 4,
 "nbformat_minor": 5
}
